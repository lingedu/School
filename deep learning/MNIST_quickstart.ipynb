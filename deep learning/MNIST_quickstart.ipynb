{
 "cells": [
  {
   "cell_type": "markdown",
   "metadata": {
    "colab": {},
    "colab_type": "code",
    "id": "oF_ab6xFzN_z"
   },
   "source": [
    "# MNIST for Numpy \n",
    "\n",
    "* RESOURCE: https://github.com/hsjeong5/MNIST-for-Numpy\n",
    "\n",
    "![](mnist_image.png)\n",
    "\n",
    "The MNIST database of handwritten digits has 60,000 training examples, and 10,000 test examples.\n",
    "Each example included in the MNIST database is a 28x28 grayscale image of handwritten digit and its corresponding label(0-9).\n",
    "This Python module makes it easy to load the MNIST database into numpy arrays.\n",
    "For more details about the MNIST database, please visit [here](http://yann.lecun.com/exdb/mnist/index.html).\n",
    "\n",
    "### Requirements\n",
    "\n",
    "- Python 3.x\n",
    "- Numpy\n",
    "\n",
    "### Usage\n",
    "\n",
    "First, download `mnist.py` from this repository and locate it to your working directory.\n",
    "Then you can make your MNIST data to be prepared in Python as follows.\n",
    "\n",
    "```python\n",
    "import mnist\n",
    "\n",
    "mnist.init()\n",
    "```\n",
    "\n",
    "**init()** consists of 2-steps.\n",
    "\n",
    "1. Download the MNIST database.\n",
    "2. Make it into numpy arrays and save it as Pickle. (`mnist.pkl`)\n",
    "\n",
    "You can do this in command line tools as well.\n",
    "\n",
    "```sh\n",
    "$ python3 mnist.py\n",
    "```\n",
    "\n",
    "After preparing, you can load the MNIST database into numpy array like this.\n",
    "\n",
    "```python\n",
    "x_train, t_train, x_test, t_test = mnist.load()\n",
    "```\n",
    "\n",
    "**load()** takes `mnist.pkl` and returns 4 numpy arrays.\n",
    "\n",
    "- x_train : 60,000x784 numpy array that each row contains flattened version of training images.\n",
    "- t_train : 1x60,000 numpy array that each component is true label of the corresponding training images.\n",
    "- x_test : 10,000x784 numpy array that each row contains flattened version of test images.\n",
    "- t_test : 1x10,000 numpy array that each component is true label of the corresponding test images.\n",
    "\n",
    "### Notice\n",
    "\n",
    "Once you get `mnist.pkl`, you don't need to call **init()** anymore. Everything you need to do is to locate `mnist.py` and `mnist.pkl` in your working directory and to call **load()**.\n",
    "\n"
   ]
  },
  {
   "cell_type": "code",
   "execution_count": 3,
   "metadata": {
    "colab": {
     "base_uri": "https://localhost:8080/",
     "height": 119
    },
    "colab_type": "code",
    "id": "5-l-LnnL3xtY",
    "outputId": "653c2802-5bba-44b6-d0ad-02e6e873a1bc"
   },
   "outputs": [
    {
     "name": "stdout",
     "output_type": "stream",
     "text": [
      "Downloading train-images-idx3-ubyte.gz...\n",
      "Downloading t10k-images-idx3-ubyte.gz...\n",
      "Downloading train-labels-idx1-ubyte.gz...\n",
      "Downloading t10k-labels-idx1-ubyte.gz...\n",
      "Download complete.\n",
      "Save complete.\n"
     ]
    }
   ],
   "source": [
    "# MNIST demo\n",
    "# Download MNIST using code from https://github.com/hsjeong5/MNIST-for-Numpy\n",
    "import numpy as np\n",
    "from urllib import request\n",
    "import gzip\n",
    "import pickle\n",
    "\n",
    "filename = [\n",
    "[\"training_images\",\"train-images-idx3-ubyte.gz\"],\n",
    "[\"test_images\",\"t10k-images-idx3-ubyte.gz\"],\n",
    "[\"training_labels\",\"train-labels-idx1-ubyte.gz\"],\n",
    "[\"test_labels\",\"t10k-labels-idx1-ubyte.gz\"]\n",
    "]\n",
    "\n",
    "def download_mnist():\n",
    "    base_url = \"http://yann.lecun.com/exdb/mnist/\"\n",
    "    for name in filename:\n",
    "        print(\"Downloading \"+name[1]+\"...\")\n",
    "        request.urlretrieve(base_url+name[1], name[1])\n",
    "    print(\"Download complete.\")\n",
    "\n",
    "def save_mnist():\n",
    "    mnist = {}\n",
    "    for name in filename[:2]:\n",
    "        with gzip.open(name[1], 'rb') as f:\n",
    "            mnist[name[0]] = np.frombuffer(f.read(), np.uint8, offset=16).reshape(-1,28*28)\n",
    "    for name in filename[-2:]:\n",
    "        with gzip.open(name[1], 'rb') as f:\n",
    "            mnist[name[0]] = np.frombuffer(f.read(), np.uint8, offset=8)\n",
    "    with open(\"mnist.pkl\", 'wb') as f:\n",
    "        pickle.dump(mnist,f)\n",
    "    print(\"Save complete.\")\n",
    "\n",
    "def init():\n",
    "    download_mnist()\n",
    "    save_mnist()\n",
    "\n",
    "def load():\n",
    "    with open(\"mnist.pkl\",'rb') as f:\n",
    "        mnist = pickle.load(f)\n",
    "    return mnist[\"training_images\"], mnist[\"training_labels\"], mnist[\"test_images\"], mnist[\"test_labels\"]\n",
    "\n",
    "init()\n",
    "x_train, t_train, x_test, t_test = load()"
   ]
  },
  {
   "cell_type": "code",
   "execution_count": 4,
   "metadata": {
    "colab": {
     "base_uri": "https://localhost:8080/",
     "height": 583
    },
    "colab_type": "code",
    "id": "dZva3GVJ34jx",
    "outputId": "bb0dd211-a668-453b-f386-736554b2e3e9"
   },
   "outputs": [
    {
     "data": {
      "text/plain": [
       "(array([ 5923.,  6742.,  5958.,  6131.,  5842.,  5421.,  5918.,  6265.,\n",
       "         5851.,  5949.]),\n",
       " array([ 0. ,  0.9,  1.8,  2.7,  3.6,  4.5,  5.4,  6.3,  7.2,  8.1,  9. ]),\n",
       " <a list of 10 Patch objects>)"
      ]
     },
     "execution_count": 4,
     "metadata": {},
     "output_type": "execute_result"
    },
    {
     "data": {
      "image/png": "[encoded data removed]",
      "text/plain": [
       "<Figure size 432x288 with 1 Axes>"
      ]
     },
     "metadata": {},
     "output_type": "display_data"
    },
    {
     "data": {
      "image/png": "[encoded data removed]",
      "text/plain": [
       "<Figure size 432x288 with 2 Axes>"
      ]
     },
     "metadata": {},
     "output_type": "display_data"
    }
   ],
   "source": [
    "# Matplotlib is used for plotting.\n",
    "import matplotlib.pyplot as plt\n",
    "# Tells jupyter to show plots in browser.\n",
    "%matplotlib inline \n",
    "plt.figure(1)\n",
    "plt.imshow(x_train[0,:].reshape(28,28))\n",
    "plt.figure(2)\n",
    "plt.subplot(1,2,1)\n",
    "plt.hist(x_train[0,:]) # Values in range 0-256, because pixels stored as uint8.\n",
    "plt.subplot(1,2,2)\n",
    "plt.hist(t_train.flatten()) # Targets in range 0-9. Need to convert to one-hot."
   ]
  },
  {
   "cell_type": "code",
   "execution_count": 5,
   "metadata": {
    "colab": {},
    "colab_type": "code",
    "id": "fkFFkFVJ4jAX"
   },
   "outputs": [],
   "source": [
    "# Neural network from https://iamtrask.github.io/2015/07/12/basic-python-network/\n",
    "X = np.array([ [0,0,1],[0,1,1],[1,0,1],[1,1,1] ])\n",
    "y = np.array([[0,1,1,0]]).T\n",
    "syn0 = 2*np.random.random((3,4)) - 1\n",
    "syn1 = 2*np.random.random((4,1)) - 1\n",
    "for j in range(60000):\n",
    "    l1 = 1/(1+np.exp(-(np.dot(X,syn0))))\n",
    "    l2 = 1/(1+np.exp(-(np.dot(l1,syn1))))\n",
    "    l2_delta = (y - l2)*(l2*(1-l2))\n",
    "    l1_delta = l2_delta.dot(syn1.T) * (l1 * (1-l1))\n",
    "    syn1 += l1.T.dot(l2_delta)\n",
    "    syn0 += X.T.dot(l1_delta)"
   ]
  },
  {
   "cell_type": "code",
   "execution_count": null,
   "metadata": {
    "colab": {},
    "colab_type": "code",
    "id": "JP_gxtne4TVF"
   },
   "outputs": [],
   "source": [
    "\n"
   ]
  }
 ],
 "metadata": {
  "colab": {
   "collapsed_sections": [],
   "name": "MNIST_quickstart.ipynb",
   "provenance": [],
   "version": "0.3.2"
  },
  "kernelspec": {
   "display_name": "Python 3",
   "language": "python",
   "name": "python3"
  },
  "language_info": {
   "codemirror_mode": {
    "name": "ipython",
    "version": 3
   },
   "file_extension": ".py",
   "mimetype": "text/x-python",
   "name": "python",
   "nbconvert_exporter": "python",
   "pygments_lexer": "ipython3",
   "version": "3.6.6"
  }
 },
 "nbformat": 4,
 "nbformat_minor": 1
}
