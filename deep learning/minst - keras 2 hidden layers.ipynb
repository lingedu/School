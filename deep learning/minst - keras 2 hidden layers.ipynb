{
 "cells": [
  {
   "cell_type": "markdown",
   "metadata": {},
   "source": [
    "# Load data"
   ]
  },
  {
   "cell_type": "code",
   "execution_count": 3,
   "metadata": {},
   "outputs": [],
   "source": [
    "import mnist\n",
    "x_train, t_train, x_test, t_test = mnist.load()"
   ]
  },
  {
   "cell_type": "markdown",
   "metadata": {},
   "source": [
    "# Normalize the data and make one-hot array for each label"
   ]
  },
  {
   "cell_type": "code",
   "execution_count": 4,
   "metadata": {},
   "outputs": [
    {
     "name": "stderr",
     "output_type": "stream",
     "text": [
      "Using TensorFlow backend.\n"
     ]
    },
    {
     "name": "stdout",
     "output_type": "stream",
     "text": [
      "(60000, 784) 5\n",
      "(10000, 784) 7\n"
     ]
    }
   ],
   "source": [
    "from keras.utils import to_categorical\n",
    "xtrain=x_train/255\n",
    "ttrain=to_categorical(t_train)\n",
    "\n",
    "xtest=x_test/255\n",
    "ttest=to_categorical(t_test)\n",
    "\n",
    "print(xtrain.shape, ttrain[0].argmax())\n",
    "print(xtest.shape, ttest[0].argmax())"
   ]
  },
  {
   "cell_type": "markdown",
   "metadata": {},
   "source": [
    "# Import Keras and set the model\n",
    "First hidden layer:\n",
    "* We set the first hidden layer by calling Dense function, note that, we should set **input_dim** to denote the input dimension. In this case, each digit has 784 pixels, so the input dimention is 784.\n",
    "*  We 'relu'(rectifier) as our activation function in the first hiden layer\n",
    "\n",
    "Second hidden layer:\n",
    "* We call Dropout(0.5) to drop out 50% imput for the second hidden layer. Dropout is a regularization technique which help to reduce overfitting.\n",
    "* We set the second hidden layer with 30 neurons, and applied 'relu' activation.\n",
    "\n",
    "Output layer:\n",
    "* We set the output layer with 10 neurons (digit 0-9), and apply softmax on the output.\n"
   ]
  },
  {
   "cell_type": "code",
   "execution_count": 65,
   "metadata": {},
   "outputs": [],
   "source": [
    "model = Sequential([\n",
    "    Dense(80, input_dim=784),#input_shape=(784,)),\n",
    "    Activation(tf.nn.relu),\n",
    "    Dropout(0.5),\n",
    "    Dense(30),\n",
    "    Activation(tf.nn.relu),\n",
    "    Dense(10),\n",
    "    Activation(tf.nn.softmax)\n",
    "])\n"
   ]
  },
  {
   "cell_type": "code",
   "execution_count": null,
   "metadata": {},
   "outputs": [
    {
     "name": "stdout",
     "output_type": "stream",
     "text": [
      "Epoch 1/20\n",
      "60000/60000 [==============================] - 3s 52us/step - loss: 0.7448 - acc: 0.7651\n",
      "Epoch 2/20\n",
      "60000/60000 [==============================] - 3s 49us/step - loss: 0.3783 - acc: 0.8866\n",
      "Epoch 3/20\n",
      "26368/60000 [============>.................] - ETA: 1s - loss: 0.3271 - acc: 0.9002"
     ]
    }
   ],
   "source": [
    "sgd = SGD(lr=0.01, decay=1e-6, momentum=0.9, nesterov=True)\n",
    "model.compile(loss='categorical_crossentropy',\n",
    "              optimizer=sgd,\n",
    "              metrics=['accuracy'])\n",
    "\n",
    "model.fit(xtrain, ttrain,\n",
    "          epochs=20,\n",
    "          batch_size=128)\n"
   ]
  },
  {
   "cell_type": "code",
   "execution_count": null,
   "metadata": {},
   "outputs": [],
   "source": [
    "score = model.evaluate(xtrain, ttrain, batch_size=128)\n",
    "print(score)\n",
    "print(\"%s: %.2f\" % (model.metrics_names[1], score[1]*100))"
   ]
  },
  {
   "cell_type": "code",
   "execution_count": 61,
   "metadata": {},
   "outputs": [
    {
     "name": "stdout",
     "output_type": "stream",
     "text": [
      "10000/10000 [==============================] - 0s 17us/step\n",
      "[0.11967924272567033, 0.96319999999999995]\n",
      "acc: 96.32\n"
     ]
    }
   ],
   "source": [
    "score = model.evaluate(xtest, ttest, batch_size=128)\n",
    "print(score)\n",
    "print(\"%s: %.2f\" % (model.metrics_names[1], score[1]*100))"
   ]
  },
  {
   "cell_type": "markdown",
   "metadata": {},
   "source": [
    "# Other way to add layer in models"
   ]
  },
  {
   "cell_type": "code",
   "execution_count": null,
   "metadata": {},
   "outputs": [],
   "source": [
    "# Dense(64) is a fully-connected layer with 64 hidden units.\n",
    "# in the first layer, you must specify the expected input data shape:\n",
    "# here, 20-dimensional vectors.\n",
    "\n",
    "#model = Sequential()\n",
    "#model.add(Dense(64, activation='relu', input_dim=20))\n",
    "#model.add(Dropout(0.5))\n",
    "#model.add(Dense(64, activation='relu'))\n",
    "#model.add(Dropout(0.5))\n",
    "#model.add(Dense(10, activation=tf.nn.softmax))"
   ]
  }
 ],
 "metadata": {
  "kernelspec": {
   "display_name": "Python 3",
   "language": "python",
   "name": "python3"
  },
  "language_info": {
   "codemirror_mode": {
    "name": "ipython",
    "version": 3
   },
   "file_extension": ".py",
   "mimetype": "text/x-python",
   "name": "python",
   "nbconvert_exporter": "python",
   "pygments_lexer": "ipython3",
   "version": "3.6.6"
  }
 },
 "nbformat": 4,
 "nbformat_minor": 2
}
