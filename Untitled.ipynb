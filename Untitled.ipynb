{
 "cells": [
  {
   "cell_type": "markdown",
   "metadata": {},
   "source": [
    "# Deep-Learning-Practice\n",
    "\n",
    "I practice the data analytics tools and deep learning skills by exploring data which I interested in. I exploring and analyze data like tree cover classification, tree/flower recognition, weather prediction, news influence prediction, hand-written digit recognition, and environment substainability issues. Some of the data cannot be released. In this respository, I only show my pratice on data from public web sites. \n",
    "\n",
    "====\n",
    "\n",
    "## [Projects of wellsFargo](wellsFargo/README.md)\n",
    "![Environment Sustainability](img/w)\n",
    "\n",
    "\n"
   ]
  },
  {
   "cell_type": "code",
   "execution_count": null,
   "metadata": {},
   "outputs": [],
   "source": []
  }
 ],
 "metadata": {
  "kernelspec": {
   "display_name": "Python 3",
   "language": "python",
   "name": "python3"
  },
  "language_info": {
   "codemirror_mode": {
    "name": "ipython",
    "version": 3
   },
   "file_extension": ".py",
   "mimetype": "text/x-python",
   "name": "python",
   "nbconvert_exporter": "python",
   "pygments_lexer": "ipython3",
   "version": "3.6.6"
  }
 },
 "nbformat": 4,
 "nbformat_minor": 2
}
