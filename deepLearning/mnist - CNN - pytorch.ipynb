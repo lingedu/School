{
 "cells": [
  {
   "cell_type": "markdown",
   "metadata": {},
   "source": [
    "# CNN (Convolution Neural Netwrok)\n",
    "CNN is a popular deep learning model in dealing with images. We implement CNN with pytorch to compare the performance with the multi-layer model. We will also implement CNN inkeras in other file to make comparison."
   ]
  },
  {
   "cell_type": "markdown",
   "metadata": {},
   "source": [
    "# Load Data\n",
    "Note that we normalize the training data by dividing the each pixel value with 255."
   ]
  },
  {
   "cell_type": "code",
   "execution_count": 1,
   "metadata": {},
   "outputs": [
    {
     "name": "stdout",
     "output_type": "stream",
     "text": [
      "torch.Size([60000, 1, 28, 28]) torch.Size([10000, 1, 28, 28])\n"
     ]
    }
   ],
   "source": [
    "import mnist\n",
    "import torch\n",
    "import torch.nn as nn\n",
    "import torch.tensor as tensor\n",
    "import torch.nn.functional as F\n",
    "import matplotlib.pyplot as plt\n",
    "import numpy as np\n",
    "from time import time\n",
    "x_train, t_train, x_test, t_test = mnist.load()\n",
    "xtrain=tensor(x_train/255,dtype=torch.float)\n",
    "ttrain=tensor(t_train,dtype=torch.int64)\n",
    "xtest=tensor(x_test/255,dtype=torch.float)\n",
    "ttest=tensor(t_test,dtype=torch.int64)\n",
    "\n",
    "plt.imshow(xtrain[1].view(28,28))\n",
    "xtrain=xtrain.view(-1,1,28,28)\n",
    "xtest=xtest.view(-1,1,28,28)\n",
    "print(xtrain.shape,xtest.shape)"
   ]
  },
  {
   "cell_type": "markdown",
   "metadata": {},
   "source": [
    "# Set the Model\n",
    "We use CNN (convolution neural network) to predict the data.\n",
    "* Conv1: We use **Conv2d(1,6,5)** to build our first convolution layer. Since our digit image is not colorful, it only have one channel. We set the first parameter to one as the inital channel of given image. We set our output channel to six, and set our kernel size to five (i.e., each filter kernel is 5*5)\n",
    "\n",
    "* Conv2: we call **Conv2d(6,16,5)** which accept six-channel input to builf second convolution layer. We set the out channel to sixteen and the kernal size is five (5*5 kernel).\n",
    "\n",
    "* MaxPooling: After each convolution layer, we will call **MaxPool2d(2,2)** to do the max pooling. We set the size of the window (2,2) to take a max over.\n",
    "\n",
    " \n",
    "\n",
    "In the Net.forward() we set our procedure.\n",
    "* We first apply *conv1*, call the relu (rectified linear unit) funtion to filter the unnecessary features, and then apply max pooling.\n",
    "* We then apply *conv2*, call the relu function, and then apply max pooling.\n",
    "* We transform the dataset to have 256 columns which can fit in the the fisrt linear layer *fc1*, and then apply *tanh* \n",
    "* We fit the data to second linear layer *fc2*. we markout *softmax* since pytorch builds softmax inside their cross entropy loss funciton.\n",
    "\n",
    "Note that we set the first linear layer transform data with 256 features. Since sfter we fit the data into conv1, max pooling, conv2, and max pooling again, the data shape became (16,4,4) where 16 denotes the channel number and other two denote the width and height. So after we flatten the data, the data size became 256(4*4*16)."
   ]
  },
  {
   "cell_type": "code",
   "execution_count": 2,
   "metadata": {},
   "outputs": [],
   "source": [
    "class Net(nn.Module):\n",
    "    def __init__(self):\n",
    "        super(Net, self).__init__()\n",
    "        self.conv1 = nn.Conv2d(1,6,5)\n",
    "        self.pool = nn.MaxPool2d(2,2)\n",
    "        self.conv2 = nn.Conv2d(6,16,5)\n",
    "        self.fc1 = nn.Linear(256, 120)#(28-4)/2=12,(12-4)/2=4(size=4*4), there are 16 filters\n",
    "        self.fc2 = nn.Linear(120, 10)\n",
    "        \n",
    "    def forward(self, x):\n",
    "        x = self.pool(F.relu(self.conv1(x)))\n",
    "        x = self.pool(F.relu(self.conv2(x)))\n",
    "        x = x.view(-1,256)\n",
    "        x = torch.relu(self.fc1(x))\n",
    "        #x=F.softmax(self.fc2(x),dim=1) #softmax is built in cross entrophy loss function\n",
    "        x=self.fc2(x)\n",
    "        return x\n",
    "net = Net()"
   ]
  },
  {
   "cell_type": "markdown",
   "metadata": {},
   "source": [
    "# Model training \n",
    "* CrossEntropyLoss: cross entropy loss in pytorch already encoded softmax. so we mark out the softmax function in our model (above cell).\n",
    "\n",
    "* optimizer: We first try the SGD(Stochastic gradient descent) with momentun, and the result is 0.916. Then we use optimer Adam, an other popular methed for a method for stochastic optimization, and had better accuray upto 0.975. Both of them take around 7 seconds.\n",
    "\n",
    "* We run only 1 epoch, and divide the data into batches.\n",
    "    * We extract batch *x* from training data and batch *t* labels.\n",
    "    * **optimizer.zero_grad** is to set the gradients to zero. It can avoid mixing the result with previous epoch.\n",
    "    * we fit the training data (batch *x*) to our model, and have the output y\n",
    "    * we compute the cross entropy loss with our output y and the training labels (batch *t*)\n",
    "    * we call **loss.backward** to run the back propagation to compute the error derivatives for model parameters\n",
    "    * we call **optimizer.step** to update the model parameters with the result from back propagation.\n",
    "    \n",
    "Note that we try to change the batch sizes. Larger batch size may run faster but not necessary have better perofrmance. In some case, batch size too large consumes too much memory and slow down the speed. So users can choose different size depend on the data size and computer load."
   ]
  },
  {
   "cell_type": "code",
   "execution_count": 3,
   "metadata": {},
   "outputs": [
    {
     "name": "stdout",
     "output_type": "stream",
     "text": [
      "0.22494377195835114\n",
      "time 7.541453838348389\n"
     ]
    }
   ],
   "source": [
    "criterion = torch.nn.CrossEntropyLoss()\n",
    "optimizer = torch.optim.Adam(net.parameters(),lr = 0.01)\n",
    "#optimizer = torch.optim.SGD(net.parameters(), lr=0.01, momentum=0.9)\n",
    "\n",
    "stime=time()\n",
    "tsize=xtrain.shape[0] #Total size of the data.\n",
    "bsize=300 #Batch size of the data. We also try 30 or 2000.\n",
    "for epoch in range(1):\n",
    "    for i in range(int(tsize/bsize)):\n",
    "            x=xtrain[bsize*i:bsize*(i+1)]\n",
    "            t=ttrain[bsize*i:bsize*(i+1)]\n",
    "            \n",
    "            optimizer.zero_grad()\n",
    "            y = net(x)\n",
    "            loss = criterion(y, t)\n",
    "            \n",
    "            loss.backward()\n",
    "            optimizer.step()\n",
    "print(loss.item())\n",
    "print('time',time()-stime)\n"
   ]
  },
  {
   "cell_type": "markdown",
   "metadata": {},
   "source": [
    "# Evaluation \n",
    "We fit the testing data(xtest) into our mode, and print out the result and compare with the testing labels. And got the final accuracy 0.975.\n",
    "Note that tuning the parameters like learning rate, batch size or epochs is important to accelerate the training process or improve the accuracy."
   ]
  },
  {
   "cell_type": "code",
   "execution_count": 4,
   "metadata": {},
   "outputs": [
    {
     "name": "stdout",
     "output_type": "stream",
     "text": [
      "tensor([7, 2, 1,  ..., 4, 5, 6])\n",
      "tensor([7, 2, 1,  ..., 4, 5, 6])\n"
     ]
    },
    {
     "data": {
      "text/plain": [
       "0.9753"
      ]
     },
     "execution_count": 4,
     "metadata": {},
     "output_type": "execute_result"
    }
   ],
   "source": [
    "ypred=net(xtest.view(-1,1,28,28))\n",
    "\n",
    "print(ypred.max(1)[1])\n",
    "print(ttest)\n",
    "\n",
    "float((ttest==ypred.max(1)[1]).sum())/len(ttest)"
   ]
  },
  {
   "cell_type": "markdown",
   "metadata": {},
   "source": [
    "# Compare the multi-layer network\n",
    "We find that while multi-layer network need 4-5 epoch to get the more than 0.97 accuracy while CNN can perform the same with only one epoch. But multi-layer only takes 1-2 seconds while CNN takes 7 seconds. \n",
    "We guess the difference is because CNN involves complicated computaion which lower down the speed but can achieve high accuracy while only run the data once.\n",
    "\n",
    "In conclude, since the images in MNIST is not too complicated, multi-layer network can have good performance with better efficiency than CNN. But for complicated images, CNN should be a better way to adopt for its sophiscated computation,"
   ]
  },
  {
   "cell_type": "code",
   "execution_count": null,
   "metadata": {},
   "outputs": [],
   "source": []
  }
 ],
 "metadata": {
  "kernelspec": {
   "display_name": "Python 3",
   "language": "python",
   "name": "python3"
  },
  "language_info": {
   "codemirror_mode": {
    "name": "ipython",
    "version": 3
   },
   "file_extension": ".py",
   "mimetype": "text/x-python",
   "name": "python",
   "nbconvert_exporter": "python",
   "pygments_lexer": "ipython3",
   "version": "3.6.6"
  }
 },
 "nbformat": 4,
 "nbformat_minor": 2
}
