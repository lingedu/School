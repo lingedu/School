{
 "cells": [
  {
   "cell_type": "code",
   "execution_count": 22,
   "metadata": {},
   "outputs": [
    {
     "name": "stdout",
     "output_type": "stream",
     "text": [
      "torch.Size([60000, 784])\n"
     ]
    }
   ],
   "source": [
    "import mnist\n",
    "import torch\n",
    "import torch.nn as nn\n",
    "import torch.tensor as tensor\n",
    "import torch.nn.functional as F\n",
    "\n",
    "x_train, t_train, x_test, t_test = mnist.load()\n",
    "\n",
    "xtrain=tensor(x_train/255,dtype=torch.float)\n",
    "ttrain=tensor(t_train,dtype=torch.int64)\n",
    "xtest=tensor(x_test/255,dtype=torch.float)\n",
    "ttest=tensor(t_test,dtype=torch.int64)\n",
    "print(xtrain.shape)"
   ]
  },
  {
   "cell_type": "code",
   "execution_count": 88,
   "metadata": {},
   "outputs": [],
   "source": [
    "class Net(nn.Module):\n",
    "    def __init__(self):\n",
    "        super(Net, self).__init__()\n",
    "        self.l1 = nn.Linear(784,80)\n",
    "        self.l1_drop = torch.nn.Dropout(0.5)\n",
    "        self.l2 = nn.Linear(80,30)\n",
    "        self.l2_drop = torch.nn.Dropout(0.5)\n",
    "        self.l3 = nn.Linear(30,10)\n",
    "        \n",
    "    def forward(self, x):\n",
    "        x = torch.relu(self.l1(x))\n",
    "        x = torch.relu(self.l2(x))\n",
    "        x=self.l3(x)\n",
    "        #x=torch.softmax(self.l3(x),dim=1)\n",
    "        return x\n",
    "net = Net()"
   ]
  },
  {
   "cell_type": "code",
   "execution_count": 89,
   "metadata": {},
   "outputs": [
    {
     "name": "stdout",
     "output_type": "stream",
     "text": [
      "epoch:  0 loss: 2.308469772338867\n",
      "epoch:  1 loss: 2.3055691719055176\n",
      "epoch:  2 loss: 2.300309419631958\n",
      "epoch:  3 loss: 2.293423891067505\n",
      "epoch:  4 loss: 2.285395622253418\n",
      "epoch:  5 loss: 2.2761542797088623\n",
      "epoch:  6 loss: 2.2651469707489014\n",
      "epoch:  7 loss: 2.2516703605651855\n",
      "epoch:  8 loss: 2.2350475788116455\n",
      "epoch:  9 loss: 2.2145354747772217\n",
      "epoch:  10 loss: 2.189255475997925\n",
      "epoch:  11 loss: 2.157902717590332\n",
      "epoch:  12 loss: 2.1185996532440186\n",
      "epoch:  13 loss: 2.0695817470550537\n",
      "epoch:  14 loss: 2.0100772380828857\n",
      "epoch:  15 loss: 1.9392589330673218\n",
      "epoch:  16 loss: 1.855003833770752\n",
      "epoch:  17 loss: 1.755265474319458\n",
      "epoch:  18 loss: 1.6414709091186523\n",
      "epoch:  19 loss: 1.517947793006897\n",
      "done\n"
     ]
    }
   ],
   "source": [
    "criterion = torch.nn.CrossEntropyLoss() # mean square error loss\n",
    "optimizer = torch.optim.SGD(net.parameters(), lr=0.1, momentum=0.9)\n",
    "\n",
    "for epoch in range(20):\n",
    "    \n",
    "        optimizer.zero_grad()\n",
    "        y = net(xtrain)\n",
    "        loss = criterion(y, ttrain)\n",
    "        if i%2000==0: print('epoch: ', epoch, 'loss:', loss.item())\n",
    "        \n",
    "        loss.backward()\n",
    "        optimizer.step()\n",
    "print('done')"
   ]
  },
  {
   "cell_type": "code",
   "execution_count": 81,
   "metadata": {},
   "outputs": [
    {
     "name": "stdout",
     "output_type": "stream",
     "text": [
      "tensor([7, 2, 1,  ..., 4, 5, 6])\n",
      "tensor([7, 2, 1,  ..., 4, 5, 6])\n"
     ]
    }
   ],
   "source": [
    "ypred=net(xtest)\n",
    "\n",
    "print(ypred.max(1)[1])\n",
    "print(ttest)"
   ]
  },
  {
   "cell_type": "code",
   "execution_count": 82,
   "metadata": {},
   "outputs": [
    {
     "name": "stdout",
     "output_type": "stream",
     "text": [
      "0.8636\n"
     ]
    }
   ],
   "source": [
    "cmp=ttest.eq(ypred.max(1)[1])\n",
    "true=len([x for x in cmp if x==1])\n",
    "false=len([x for x in cmp if x==0])\n",
    "total=true+false\n",
    "print(true/total)"
   ]
  },
  {
   "cell_type": "code",
   "execution_count": null,
   "metadata": {},
   "outputs": [],
   "source": []
  }
 ],
 "metadata": {
  "kernelspec": {
   "display_name": "Python 3",
   "language": "python",
   "name": "python3"
  },
  "language_info": {
   "codemirror_mode": {
    "name": "ipython",
    "version": 3
   },
   "file_extension": ".py",
   "mimetype": "text/x-python",
   "name": "python",
   "nbconvert_exporter": "python",
   "pygments_lexer": "ipython3",
   "version": "3.6.6"
  }
 },
 "nbformat": 4,
 "nbformat_minor": 2
}
