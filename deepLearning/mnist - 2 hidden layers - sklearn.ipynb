{
 "cells": [
  {
   "cell_type": "markdown",
   "metadata": {},
   "source": [
    "# Load the data"
   ]
  },
  {
   "cell_type": "code",
   "execution_count": 1,
   "metadata": {},
   "outputs": [],
   "source": [
    "import mnist\n",
    "x_train, t_train, x_test, t_test = mnist.load()"
   ]
  },
  {
   "cell_type": "markdown",
   "metadata": {},
   "source": [
    "# Normalize the data and make one-hot array"
   ]
  },
  {
   "cell_type": "code",
   "execution_count": 2,
   "metadata": {},
   "outputs": [
    {
     "name": "stderr",
     "output_type": "stream",
     "text": [
      "Using TensorFlow backend.\n"
     ]
    },
    {
     "name": "stdout",
     "output_type": "stream",
     "text": [
      "(60000, 784) 5\n",
      "(10000, 784) 7\n"
     ]
    }
   ],
   "source": [
    "from keras.utils import to_categorical\n",
    "\n",
    "xtrain=x_train/255\n",
    "ttrain=to_categorical(t_train)\n",
    "\n",
    "xtest=x_test/255\n",
    "ttest=to_categorical(t_test)\n",
    "\n",
    "print(xtrain.shape, ttrain[0].argmax())\n",
    "print(xtest.shape, ttest[0].argmax())"
   ]
  },
  {
   "cell_type": "markdown",
   "metadata": {},
   "source": [
    "# Multi-layer Perceptron  Classifier\n",
    "\n",
    "We set our model with MLPClassifier from sklearn libraries.\n",
    "* We use the 'relu'(rectifier) as our activation function. \n",
    "* We set our hidden layer nerrons numbers as 80 and 20, respectively. \n",
    "* We set the learning rate as 0.001. \n",
    "* We set shffle is True to shuffle the data in each iteration.\n",
    "* We use 'adam', one of the most popular stochastic gradient-based optimizer, as our slover.\n",
    "\n",
    "we use **model.fit** to train the model with training data (xtrain) and training labels (ttrain)."
   ]
  },
  {
   "cell_type": "code",
   "execution_count": 3,
   "metadata": {},
   "outputs": [
    {
     "name": "stdout",
     "output_type": "stream",
     "text": [
      "time 55.671202421188354\n"
     ]
    }
   ],
   "source": [
    "from sklearn.neural_network import MLPClassifier\n",
    "model = MLPClassifier(activation='relu', alpha=0.0001, batch_size='auto',\\\n",
    "                      hidden_layer_sizes=(80,20),learning_rate_init=0.001,\\\n",
    "                      shuffle=True, solver='adam')\n",
    "from time import time\n",
    "st=time()\n",
    "model.fit(xtrain,ttrain)\n",
    "print('time', time()-st)"
   ]
  },
  {
   "cell_type": "markdown",
   "metadata": {},
   "source": [
    "# Prediction\n",
    "* we use **model predict** to predict the labels for testing data(xtest). We print our predicted labels **ypred** and testing labels **ttest**.\n",
    "\n",
    "* Then we count the accuracy. If accumulate the right answers (ehen prectioin label and testing label is the same) and count the accuracy by compute the rate of the right answers whthin all output.\n",
    "\n",
    "# Result\n",
    "* We can see the result accuracy is 0.965, it is very good."
   ]
  },
  {
   "cell_type": "code",
   "execution_count": 4,
   "metadata": {},
   "outputs": [
    {
     "name": "stdout",
     "output_type": "stream",
     "text": [
      "[7 2 1 ..., 4 5 6]\n",
      "[7 2 1 ..., 4 5 6]\n"
     ]
    },
    {
     "data": {
      "text/plain": [
       "0.96209999999999996"
      ]
     },
     "execution_count": 4,
     "metadata": {},
     "output_type": "execute_result"
    }
   ],
   "source": [
    "ypred = model.predict(xtest)\n",
    "print(ypred.argmax(1))\n",
    "print(ttest.argmax(1))\n",
    "#ttest.shape\n",
    "#(ypred.argmax(1)==ttest.argmax(1))\n",
    "(ypred.argmax(1)==ttest.argmax(1)).sum()/ttest.shape[0] # count accuracy"
   ]
  },
  {
   "cell_type": "markdown",
   "metadata": {},
   "source": [
    "# Evaluation\n",
    "**model.score** is the function to evaluate the model by compare the prediction of testing data with testing labels"
   ]
  },
  {
   "cell_type": "code",
   "execution_count": 5,
   "metadata": {},
   "outputs": [
    {
     "data": {
      "text/plain": [
       "0.95250000000000001"
      ]
     },
     "execution_count": 5,
     "metadata": {},
     "output_type": "execute_result"
    }
   ],
   "source": [
    "model.score(xtest,ttest)"
   ]
  }
 ],
 "metadata": {
  "kernelspec": {
   "display_name": "Python 3",
   "language": "python",
   "name": "python3"
  },
  "language_info": {
   "codemirror_mode": {
    "name": "ipython",
    "version": 3
   },
   "file_extension": ".py",
   "mimetype": "text/x-python",
   "name": "python",
   "nbconvert_exporter": "python",
   "pygments_lexer": "ipython3",
   "version": "3.6.6"
  }
 },
 "nbformat": 4,
 "nbformat_minor": 2
}
