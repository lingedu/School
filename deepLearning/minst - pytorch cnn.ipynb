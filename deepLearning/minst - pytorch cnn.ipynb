{
 "cells": [
  {
   "cell_type": "code",
   "execution_count": 1,
   "metadata": {},
   "outputs": [
    {
     "name": "stdout",
     "output_type": "stream",
     "text": [
      "torch.Size([60000, 784])\n"
     ]
    }
   ],
   "source": [
    "import mnist\n",
    "import torch\n",
    "import torch.nn as nn\n",
    "import torch.tensor as tensor\n",
    "import torch.nn.functional as F\n",
    "x_train, t_train, x_test, t_test = mnist.load()\n",
    "xtrain=tensor(x_train/255,dtype=torch.float)\n",
    "ttrain=tensor(t_train,dtype=torch.int64)\n",
    "xtest=tensor(x_test/255,dtype=torch.float)\n",
    "ttest=tensor(t_test,dtype=torch.int64)\n",
    "print(xtrain.shape)"
   ]
  },
  {
   "cell_type": "code",
   "execution_count": 2,
   "metadata": {},
   "outputs": [],
   "source": [
    "class Net(nn.Module):\n",
    "    def __init__(self):\n",
    "        super(Net, self).__init__()\n",
    "        self.conv1 = nn.Conv2d(1,6,5)\n",
    "        self.pool = nn.MaxPool2d(2,2)\n",
    "        self.conv2 = nn.Conv2d(6,16,5)\n",
    "        self.fc1 = nn.Linear(256, 120)#(28-4)/2=12,(12-4)/2=4(size=4*4), there are 16 filters\n",
    "        self.fc2 = nn.Linear(120, 10)\n",
    "        \n",
    "    def forward(self, x):\n",
    "        x = self.pool(F.relu(self.conv1(x)))\n",
    "        x = self.pool(F.relu(self.conv2(x)))\n",
    "        x = x.view(-1,256)\n",
    "        x = torch.tanh(self.fc1(x))\n",
    "        x=F.softmax(self.fc2(x),dim=1)\n",
    "        return x\n",
    "net = Net()"
   ]
  },
  {
   "cell_type": "code",
   "execution_count": 3,
   "metadata": {},
   "outputs": [
    {
     "name": "stdout",
     "output_type": "stream",
     "text": [
      "epoch:  0 loss: 2.312969207763672\n",
      "epoch:  0 loss: 2.333869457244873\n",
      "epoch:  0 loss: 1.5221599340438843\n",
      "epoch:  0 loss: 1.4642884731292725\n",
      "epoch:  0 loss: 1.4627525806427002\n",
      "epoch:  0 loss: 1.4612847566604614\n",
      "epoch:  0 loss: 1.4660097360610962\n",
      "epoch:  0 loss: 1.461794376373291\n",
      "epoch:  0 loss: 1.4611780643463135\n",
      "epoch:  0 loss: 1.4632494449615479\n",
      "epoch:  0 loss: 1.461246371269226\n",
      "epoch:  0 loss: 1.4611917734146118\n",
      "epoch:  0 loss: 1.4613730907440186\n",
      "epoch:  0 loss: 1.4614951610565186\n",
      "epoch:  0 loss: 1.461298942565918\n",
      "epoch:  0 loss: 1.4611973762512207\n",
      "epoch:  0 loss: 1.4612958431243896\n",
      "epoch:  0 loss: 1.4647467136383057\n",
      "epoch:  0 loss: 1.6915695667266846\n",
      "epoch:  0 loss: 1.4613051414489746\n",
      "epoch:  0 loss: 1.4611780643463135\n",
      "epoch:  0 loss: 1.461162805557251\n",
      "epoch:  0 loss: 1.4611643552780151\n",
      "epoch:  0 loss: 1.4630630016326904\n",
      "epoch:  0 loss: 1.4612219333648682\n",
      "epoch:  0 loss: 1.4611557722091675\n",
      "epoch:  0 loss: 1.461288332939148\n",
      "epoch:  0 loss: 1.4624272584915161\n",
      "epoch:  0 loss: 1.4613275527954102\n",
      "epoch:  0 loss: 1.461279034614563\n",
      "epoch:  1 loss: 1.523205041885376\n",
      "epoch:  1 loss: 1.6198081970214844\n",
      "epoch:  1 loss: 1.4613864421844482\n",
      "epoch:  1 loss: 1.4611562490463257\n",
      "epoch:  1 loss: 1.4611643552780151\n",
      "epoch:  1 loss: 1.4611728191375732\n",
      "epoch:  1 loss: 1.6481754779815674\n",
      "epoch:  1 loss: 1.4612549543380737\n",
      "epoch:  1 loss: 1.461150884628296\n",
      "epoch:  1 loss: 1.4625635147094727\n",
      "epoch:  1 loss: 1.4611666202545166\n",
      "epoch:  1 loss: 1.4612829685211182\n",
      "epoch:  1 loss: 1.4611592292785645\n",
      "epoch:  1 loss: 1.4611618518829346\n",
      "epoch:  1 loss: 1.461190938949585\n",
      "epoch:  1 loss: 1.4611537456512451\n",
      "epoch:  1 loss: 1.4611729383468628\n",
      "epoch:  1 loss: 1.4612395763397217\n",
      "epoch:  1 loss: 1.4612526893615723\n",
      "epoch:  1 loss: 1.4613337516784668\n",
      "epoch:  1 loss: 1.4611515998840332\n",
      "epoch:  1 loss: 1.4611555337905884\n",
      "epoch:  1 loss: 1.4611709117889404\n",
      "epoch:  1 loss: 1.46120023727417\n",
      "epoch:  1 loss: 1.4611514806747437\n",
      "epoch:  1 loss: 1.4611510038375854\n",
      "epoch:  1 loss: 1.4611972570419312\n",
      "epoch:  1 loss: 1.4613046646118164\n",
      "epoch:  1 loss: 1.461214303970337\n",
      "epoch:  1 loss: 1.4613168239593506\n",
      "done\n"
     ]
    }
   ],
   "source": [
    "criterion = torch.nn.CrossEntropyLoss() # mean square error loss\n",
    "optimizer = torch.optim.SGD(net.parameters(), lr=0.001, momentum=0.9)\n",
    "\n",
    "for epoch in range(2):\n",
    "    for i,x in enumerate(xtrain):\n",
    "        optimizer.zero_grad()\n",
    "        y = net(x.view(-1,1,28,28))\n",
    "        loss = criterion(y, tensor([ttrain[i]]))\n",
    "        if i%2000==0: print('epoch: ', epoch, 'loss:', loss.item())\n",
    "        \n",
    "        loss.backward()\n",
    "        optimizer.step()\n",
    "print('done')"
   ]
  },
  {
   "cell_type": "code",
   "execution_count": 4,
   "metadata": {},
   "outputs": [
    {
     "name": "stdout",
     "output_type": "stream",
     "text": [
      "tensor([7, 2, 1,  ..., 4, 5, 6])\n",
      "tensor([7, 2, 1,  ..., 4, 5, 6])\n"
     ]
    }
   ],
   "source": [
    "\n",
    "\n",
    "ypred=net(xtest.view(-1,1,28,28))\n",
    "\n",
    "print(ypred.max(1)[1])\n",
    "print(ttest)"
   ]
  },
  {
   "cell_type": "code",
   "execution_count": 5,
   "metadata": {},
   "outputs": [
    {
     "name": "stdout",
     "output_type": "stream",
     "text": [
      "0.9742\n"
     ]
    }
   ],
   "source": [
    "cmp=ttest.eq(ypred.max(1)[1])\n",
    "true=len([x for x in cmp if x==1])\n",
    "false=len([x for x in cmp if x==0])\n",
    "total=true+false\n",
    "print(true/total)"
   ]
  },
  {
   "cell_type": "code",
   "execution_count": null,
   "metadata": {},
   "outputs": [],
   "source": []
  }
 ],
 "metadata": {
  "kernelspec": {
   "display_name": "Python 3",
   "language": "python",
   "name": "python3"
  },
  "language_info": {
   "codemirror_mode": {
    "name": "ipython",
    "version": 3
   },
   "file_extension": ".py",
   "mimetype": "text/x-python",
   "name": "python",
   "nbconvert_exporter": "python",
   "pygments_lexer": "ipython3",
   "version": "3.6.6"
  }
 },
 "nbformat": 4,
 "nbformat_minor": 2
}
