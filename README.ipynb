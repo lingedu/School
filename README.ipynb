# Deep-Learning-Practice

I practice the data analytics tools and deep learning skills by exploring data which I interested in. I exploring and analyze data like tree cover classification, tree/flower recognition, weather prediction, news influence prediction, hand-written digit recognition, and environment substainability issues. Some of the data cannot be released. In this respository, I only show my pratice on data from public web sites. 

[Projects of wellsFargo](wellsFargo/README.md)
[Environment Sustainability](img/green)
[picture adopted from](https://www.google.com/url?sa=i&rct=j&q=&esrc=s&source=images&cd=&cad=rja&uact=8&ved=2ahUKEwj9zOuX2IXfAhUPCTQIHfh0BX0QjRx6BAgBEAU&url=http%3A%2F%2Fwww.clixoo.com%2Fcleantech-app-development%2Fenergy-efficiency&psig=AOvVaw0J8Tv4ARi1-NACqSBRRUXQ&ust=1543996064627019))

